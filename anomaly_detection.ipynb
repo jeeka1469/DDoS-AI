{
 "cells": [
  {
   "cell_type": "code",
   "execution_count": null,
   "metadata": {
    "_cell_guid": "b1076dfc-b9ad-4769-8c92-a6c4dae69d19",
    "_uuid": "8f2839f25d086af736a60e9eeb907d3b93b6e0e5",
    "execution": {
     "iopub.execute_input": "2024-11-25T19:13:26.266630Z",
     "iopub.status.busy": "2024-11-25T19:13:26.266205Z",
     "iopub.status.idle": "2024-11-25T19:13:26.696338Z",
     "shell.execute_reply": "2024-11-25T19:13:26.694910Z",
     "shell.execute_reply.started": "2024-11-25T19:13:26.266576Z"
    },
    "trusted": true
   },
   "outputs": [
    {
     "name": "stdout",
     "output_type": "stream",
     "text": [
      "Available CSV files:\n",
      "C:/Users/srujan/DDOS_AI/03-11/LDAP.csv\n",
      "C:/Users/srujan/DDOS_AI/03-11/MSSQL.csv\n",
      "C:/Users/srujan/DDOS_AI/03-11/NetBIOS.csv\n",
      "C:/Users/srujan/DDOS_AI/03-11/Portmap.csv\n",
      "C:/Users/srujan/DDOS_AI/03-11/Syn.csv\n",
      "C:/Users/srujan/DDOS_AI/03-11/UDP.csv\n",
      "C:/Users/srujan/DDOS_AI/03-11/UDPLag.csv\n"
     ]
    }
   ],
   "source": [
    "import numpy as np\n",
    "import pandas as pd\n",
    "import os\n",
    "\n",
    "dataset_dir = 'C:/Users/srujan/DDOS_AI/03-11/'\n",
    "\n",
    "print(\"Available CSV files:\")\n",
    "for filename in os.listdir(dataset_dir):\n",
    "    if filename.endswith('.csv'):\n",
    "        print(os.path.join(dataset_dir, filename))"
   ]
  },
  {
   "cell_type": "code",
   "execution_count": 25,
   "metadata": {
    "execution": {
     "iopub.execute_input": "2024-11-25T19:13:28.221948Z",
     "iopub.status.busy": "2024-11-25T19:13:28.221451Z",
     "iopub.status.idle": "2024-11-25T19:13:32.528978Z",
     "shell.execute_reply": "2024-11-25T19:13:32.527846Z",
     "shell.execute_reply.started": "2024-11-25T19:13:28.221912Z"
    },
    "trusted": true
   },
   "outputs": [],
   "source": [
    "import pandas as pd\n",
    "import numpy as np\n",
    "import matplotlib.pyplot as plt\n",
    "import seaborn as sns\n",
    "\n",
    "from sklearn.model_selection import train_test_split, GridSearchCV, StratifiedShuffleSplit\n",
    "from sklearn.preprocessing import StandardScaler, LabelEncoder\n",
    "from sklearn.feature_selection import SelectKBest, f_classif\n",
    "from sklearn.metrics import classification_report, confusion_matrix, accuracy_score\n",
    "from sklearn.pipeline import Pipeline\n",
    "\n",
    "from sklearn.linear_model import LogisticRegression\n",
    "from sklearn.tree import DecisionTreeClassifier\n",
    "from sklearn.ensemble import RandomForestClassifier, GradientBoostingClassifier\n",
    "from sklearn.svm import SVC\n",
    "from xgboost import XGBClassifier\n",
    "\n",
    "import tensorflow as tf\n",
    "from tensorflow.keras.models import Sequential\n",
    "from tensorflow.keras.layers import Dense, Dropout, BatchNormalization\n",
    "from tensorflow.keras.optimizers import Adam\n",
    "from tensorflow.keras.callbacks import EarlyStopping, ReduceLROnPlateau"
   ]
  },
  {
   "cell_type": "code",
   "execution_count": null,
   "metadata": {
    "execution": {
     "iopub.execute_input": "2024-11-25T19:13:32.531891Z",
     "iopub.status.busy": "2024-11-25T19:13:32.531234Z",
     "iopub.status.idle": "2024-11-25T19:13:32.574359Z",
     "shell.execute_reply": "2024-11-25T19:13:32.572889Z",
     "shell.execute_reply.started": "2024-11-25T19:13:32.531851Z"
    },
    "trusted": true
   },
   "outputs": [],
   "source": [
    "class DDoSAnalysis:\n",
    "    def __init__(self, file_path):\n",
    "        self.raw_data = pd.read_csv(file_path, low_memory=False)\n",
    "        self.processed_data = None\n",
    "        self.X_train = None\n",
    "        self.X_test = None\n",
    "        self.y_train = None\n",
    "        self.y_test = None\n",
    "\n",
    "    def lightweight_eda(self):\n",
    "        print(\"Dataset Shape:\", self.raw_data.shape)\n",
    "        print(\"\\nColumns:\", list(self.raw_data.columns))\n",
    "        print(\"\\nData Types:\\n\", self.raw_data.dtypes)\n",
    "        print(\"\\nColumns with Missing Values:\", self.raw_data.columns[self.raw_data.isnull().any()])\n",
    "\n",
    "        if ' Label' in self.raw_data.columns:\n",
    "            plt.figure(figsize=(8, 8))\n",
    "            self.raw_data[' Label'].value_counts().plot(kind='pie', autopct='%1.1f%%')\n",
    "            plt.title('Label Distribution')\n",
    "            plt.ylabel('')\n",
    "            plt.tight_layout()\n",
    "            plt.show()\n",
    "        else:\n",
    "            print(\"Target Column 'Label' Missing.\")\n",
    "\n",
    "    def preprocess_data(self, target_column=' Label', test_size=0.2):\n",
    "        df = self.raw_data.copy()\n",
    "\n",
    "        categorical_cols = df.select_dtypes(include=['object']).columns\n",
    "        label_encoder = LabelEncoder()\n",
    "        for col in categorical_cols:\n",
    "            df[col] = label_encoder.fit_transform(df[col].astype(str))\n",
    "\n",
    "        df = df.drop(['Timestamp'], axis=1, errors='ignore')\n",
    "\n",
    "        X = df.drop(columns=[target_column])\n",
    "        y = df[target_column]\n",
    "\n",
    "        if X.isnull().any().any() or np.isinf(X.values).any():\n",
    "            print(\"Warning: NaN or Infinite values detected in the feature set. Handling them.\")\n",
    "            X = X.fillna(X.mean())\n",
    "            X = X.replace([np.inf, -np.inf], X.max().max())\n",
    "            X = X.clip(lower=-1e6, upper=1e6)\n",
    "\n",
    "        self.X_train, self.X_test, self.y_train, self.y_test = train_test_split(\n",
    "            X, y, test_size=test_size, random_state=42\n",
    "        )\n",
    "\n",
    "        scaler = StandardScaler()\n",
    "        self.X_train = scaler.fit_transform(self.X_train)\n",
    "        self.X_test = scaler.transform(self.X_test)\n",
    "\n",
    "        self.processed_data = df\n",
    "\n",
    "    def feature_importance(self, n_features=10):\n",
    "        selector = SelectKBest(score_func=f_classif, k=n_features)\n",
    "        X_new = selector.fit_transform(self.X_train, self.y_train)\n",
    "\n",
    "        feature_names = self.processed_data.drop(columns=[' Label']).columns\n",
    "        selected_features = feature_names[selector.get_support()]\n",
    "\n",
    "        rf_classifier = RandomForestClassifier(n_estimators=100, random_state=42)\n",
    "        rf_classifier.fit(self.X_train, self.y_train)\n",
    "\n",
    "        feature_imp = pd.DataFrame({\n",
    "            'feature': selected_features,\n",
    "            'importance': rf_classifier.feature_importances_[:len(selected_features)]\n",
    "        }).sort_values('importance', ascending=False)\n",
    "\n",
    "        plt.figure(figsize=(10, 6))\n",
    "        sns.barplot(x='importance', y='feature', data=feature_imp)\n",
    "        plt.title(f'Top {n_features} Most Important Features')\n",
    "        plt.tight_layout()\n",
    "        plt.show()\n",
    "\n",
    "        return feature_imp\n",
    "\n",
    "    def train_ml_models(self):\n",
    "        models = {\n",
    "            'SVM': {\n",
    "                'model': SVC(),\n",
    "                'params': {\n",
    "                    'C': [0.1, 1, 10],\n",
    "                    'kernel': ['linear', 'rbf']\n",
    "                }\n",
    "            },\n",
    "            'Random Forest': {\n",
    "                'model': RandomForestClassifier(),\n",
    "                'params': {\n",
    "                    'n_estimators': [50, 100, 200],\n",
    "                    'max_depth': [None, 10, 20, 30]\n",
    "                }\n",
    "            },\n",
    "            'XGBoost': {\n",
    "                'model': XGBClassifier(),\n",
    "                'params': {\n",
    "                    'learning_rate': [0.01, 0.1, 0.5],\n",
    "                    'n_estimators': [50, 100, 200]\n",
    "                }\n",
    "            }\n",
    "        }\n",
    "\n",
    "        results = {}\n",
    "        for name, setup in models.items():\n",
    "            grid_search = GridSearchCV(\n",
    "                estimator=setup['model'], \n",
    "                param_grid=setup['params'], \n",
    "                cv=5, \n",
    "                scoring='f1', \n",
    "                n_jobs=-1\n",
    "            )\n",
    "\n",
    "            grid_search.fit(self.X_train, self.y_train)\n",
    "            best_model = grid_search.best_estimator_\n",
    "            y_pred = best_model.predict(self.X_test)\n",
    "\n",
    "            results[name] = {\n",
    "                'best_params': grid_search.best_params_,\n",
    "                'classification_report': classification_report(self.y_test, y_pred),\n",
    "                'confusion_matrix': confusion_matrix(self.y_test, y_pred),\n",
    "                'accuracy': accuracy_score(self.y_test, y_pred)\n",
    "            }\n",
    "\n",
    "        return results\n",
    "\n",
    "    def deep_learning_model(self):\n",
    "        X_train = self.X_train\n",
    "        X_test = self.X_test\n",
    "        y_train = tf.keras.utils.to_categorical(self.y_train)\n",
    "        y_test = tf.keras.utils.to_categorical(self.y_test)\n",
    "\n",
    "        def create_model(learning_rate=0.001, units1=64, units2=32, dropout_rate=0.3):\n",
    "            model = Sequential([\n",
    "                Dense(units1, activation='relu', input_shape=(X_train.shape[1],)),\n",
    "                BatchNormalization(),\n",
    "                Dropout(dropout_rate),\n",
    "                Dense(units2, activation='relu'),\n",
    "                BatchNormalization(),\n",
    "                Dropout(dropout_rate),\n",
    "                Dense(y_train.shape[1], activation='softmax')\n",
    "            ])\n",
    "\n",
    "            optimizer = Adam(learning_rate=learning_rate)\n",
    "            model.compile(optimizer=optimizer, \n",
    "                          loss='categorical_crossentropy', \n",
    "                          metrics=['accuracy'])\n",
    "            return model\n",
    "\n",
    "        early_stopping = EarlyStopping(monitor='val_loss', patience=10, restore_best_weights=True)\n",
    "        reduce_lr = ReduceLROnPlateau(monitor='val_loss', factor=0.2, patience=5, min_lr=0.00001)\n",
    "\n",
    "        model = create_model()\n",
    "        history = model.fit(\n",
    "            X_train, y_train,\n",
    "            validation_split=0.2,\n",
    "            epochs=100,\n",
    "            batch_size=32,\n",
    "            callbacks=[early_stopping, reduce_lr],\n",
    "            verbose=0\n",
    "        )\n",
    "\n",
    "        y_pred = model.predict(X_test)\n",
    "        y_pred_classes = np.argmax(y_pred, axis=1)\n",
    "        y_test_classes = np.argmax(y_test, axis=1)\n",
    "\n",
    "        plt.figure(figsize=(12, 4))\n",
    "        plt.subplot(1, 2, 1)\n",
    "        plt.plot(history.history['accuracy'], label='Training Accuracy')\n",
    "        plt.plot(history.history['val_accuracy'], label='Validation Accuracy')\n",
    "        plt.title('Training and Validation Accuracy')\n",
    "        plt.legend()\n",
    "\n",
    "        plt.subplot(1, 2, 2)\n",
    "        plt.plot(history.history['loss'], label='Training Loss')\n",
    "        plt.plot(history.history['val_loss'], label='Validation Loss')\n",
    "        plt.title('Training and Validation Loss')\n",
    "        plt.legend()\n",
    "        plt.show()\n",
    "\n",
    "        return {\n",
    "            'classification_report': classification_report(y_test_classes, y_pred_classes),\n",
    "            'confusion_matrix': confusion_matrix(y_test_classes, y_pred_classes),\n",
    "            'accuracy': accuracy_score(y_test_classes, y_pred_classes)\n",
    "        }"
   ]
  },
  {
   "cell_type": "code",
   "execution_count": 20,
   "metadata": {
    "execution": {
     "iopub.execute_input": "2024-11-25T19:13:32.577120Z",
     "iopub.status.busy": "2024-11-25T19:13:32.575998Z",
     "iopub.status.idle": "2024-11-25T19:13:36.418651Z",
     "shell.execute_reply": "2024-11-25T19:13:36.417194Z",
     "shell.execute_reply.started": "2024-11-25T19:13:32.577060Z"
    },
    "trusted": true
   },
   "outputs": [],
   "source": [
    "# Initialize with your Syn.csv file\n",
    "ddos_analysis = DDoSAnalysis(\"C:/Users/srujan/DDOS_AI/03-11/Syn.csv\")\n"
   ]
  },
  {
   "cell_type": "code",
   "execution_count": 21,
   "metadata": {
    "execution": {
     "iopub.execute_input": "2024-11-25T19:13:39.070856Z",
     "iopub.status.busy": "2024-11-25T19:13:39.069698Z",
     "iopub.status.idle": "2024-11-25T19:14:02.964066Z",
     "shell.execute_reply": "2024-11-25T19:14:02.962201Z",
     "shell.execute_reply.started": "2024-11-25T19:13:39.070809Z"
    },
    "trusted": true
   },
   "outputs": [
    {
     "name": "stdout",
     "output_type": "stream",
     "text": [
      "Performing light weight EDA...\n",
      "Dataset Shape: (4320541, 88)\n",
      "\n",
      "Columns: ['Unnamed: 0', 'Flow ID', ' Source IP', ' Source Port', ' Destination IP', ' Destination Port', ' Protocol', ' Timestamp', ' Flow Duration', ' Total Fwd Packets', ' Total Backward Packets', 'Total Length of Fwd Packets', ' Total Length of Bwd Packets', ' Fwd Packet Length Max', ' Fwd Packet Length Min', ' Fwd Packet Length Mean', ' Fwd Packet Length Std', 'Bwd Packet Length Max', ' Bwd Packet Length Min', ' Bwd Packet Length Mean', ' Bwd Packet Length Std', 'Flow Bytes/s', ' Flow Packets/s', ' Flow IAT Mean', ' Flow IAT Std', ' Flow IAT Max', ' Flow IAT Min', 'Fwd IAT Total', ' Fwd IAT Mean', ' Fwd IAT Std', ' Fwd IAT Max', ' Fwd IAT Min', 'Bwd IAT Total', ' Bwd IAT Mean', ' Bwd IAT Std', ' Bwd IAT Max', ' Bwd IAT Min', 'Fwd PSH Flags', ' Bwd PSH Flags', ' Fwd URG Flags', ' Bwd URG Flags', ' Fwd Header Length', ' Bwd Header Length', 'Fwd Packets/s', ' Bwd Packets/s', ' Min Packet Length', ' Max Packet Length', ' Packet Length Mean', ' Packet Length Std', ' Packet Length Variance', 'FIN Flag Count', ' SYN Flag Count', ' RST Flag Count', ' PSH Flag Count', ' ACK Flag Count', ' URG Flag Count', ' CWE Flag Count', ' ECE Flag Count', ' Down/Up Ratio', ' Average Packet Size', ' Avg Fwd Segment Size', ' Avg Bwd Segment Size', ' Fwd Header Length.1', 'Fwd Avg Bytes/Bulk', ' Fwd Avg Packets/Bulk', ' Fwd Avg Bulk Rate', ' Bwd Avg Bytes/Bulk', ' Bwd Avg Packets/Bulk', 'Bwd Avg Bulk Rate', 'Subflow Fwd Packets', ' Subflow Fwd Bytes', ' Subflow Bwd Packets', ' Subflow Bwd Bytes', 'Init_Win_bytes_forward', ' Init_Win_bytes_backward', ' act_data_pkt_fwd', ' min_seg_size_forward', 'Active Mean', ' Active Std', ' Active Max', ' Active Min', 'Idle Mean', ' Idle Std', ' Idle Max', ' Idle Min', 'SimillarHTTP', ' Inbound', ' Label']\n",
      "\n",
      "Data Types:\n",
      " Unnamed: 0           int64\n",
      "Flow ID             object\n",
      " Source IP          object\n",
      " Source Port         int64\n",
      " Destination IP     object\n",
      "                    ...   \n",
      " Idle Max          float64\n",
      " Idle Min          float64\n",
      "SimillarHTTP        object\n",
      " Inbound             int64\n",
      " Label              object\n",
      "Length: 88, dtype: object\n",
      "\n",
      "Columns with Missing Values: Index(['Flow Bytes/s'], dtype='object')\n"
     ]
    },
    {
     "data": {
      "image/png": "[encoded data removed]",
      "text/plain": [
       "<Figure size 800x800 with 1 Axes>"
      ]
     },
     "metadata": {},
     "output_type": "display_data"
    }
   ],
   "source": [
    "# Perform EDA\n",
    "print(\"Performing light weight EDA...\")\n",
    "ddos_analysis.lightweight_eda()"
   ]
  },
  {
   "cell_type": "code",
   "execution_count": 22,
   "metadata": {
    "execution": {
     "iopub.execute_input": "2024-11-25T19:14:02.967482Z",
     "iopub.status.busy": "2024-11-25T19:14:02.966710Z",
     "iopub.status.idle": "2024-11-25T19:14:05.145225Z",
     "shell.execute_reply": "2024-11-25T19:14:05.144004Z",
     "shell.execute_reply.started": "2024-11-25T19:14:02.967392Z"
    },
    "trusted": true
   },
   "outputs": [
    {
     "name": "stdout",
     "output_type": "stream",
     "text": [
      "\n",
      "Preprocessing Data...\n",
      "Warning: NaN or Infinite values detected. Handling them.\n"
     ]
    },
    {
     "name": "stderr",
     "output_type": "stream",
     "text": [
      "C:\\Users\\srujan\\AppData\\Local\\Temp\\ipykernel_3396\\3487144438.py:44: FutureWarning: A value is trying to be set on a copy of a DataFrame or Series through chained assignment using an inplace method.\n",
      "The behavior will change in pandas 3.0. This inplace method will never work because the intermediate object on which we are setting values always behaves as a copy.\n",
      "\n",
      "For example, when doing 'df[col].method(value, inplace=True)', try using 'df.method({col: value}, inplace=True)' or df[col] = df[col].method(value) instead, to perform the operation inplace on the original object.\n",
      "\n",
      "\n",
      "  X[col].fillna(X[col].mean(), inplace=True)\n",
      "C:\\Users\\srujan\\AppData\\Local\\Temp\\ipykernel_3396\\3487144438.py:47: FutureWarning: A value is trying to be set on a copy of a DataFrame or Series through chained assignment using an inplace method.\n",
      "The behavior will change in pandas 3.0. This inplace method will never work because the intermediate object on which we are setting values always behaves as a copy.\n",
      "\n",
      "For example, when doing 'df[col].method(value, inplace=True)', try using 'df.method({col: value}, inplace=True)' or df[col] = df[col].method(value) instead, to perform the operation inplace on the original object.\n",
      "\n",
      "\n",
      "  X[col].replace([np.inf, -np.inf], max_val, inplace=True)\n"
     ]
    }
   ],
   "source": [
    "# Preprocess Data\n",
    "print(\"\\nPreprocessing Data...\")\n",
    "ddos_analysis.preprocess_data()"
   ]
  },
  {
   "cell_type": "code",
   "execution_count": 23,
   "metadata": {
    "execution": {
     "iopub.execute_input": "2024-11-25T19:14:06.852555Z",
     "iopub.status.busy": "2024-11-25T19:14:06.852132Z",
     "iopub.status.idle": "2024-11-25T19:14:32.242656Z",
     "shell.execute_reply": "2024-11-25T19:14:32.241355Z",
     "shell.execute_reply.started": "2024-11-25T19:14:06.852514Z"
    },
    "trusted": true
   },
   "outputs": [
    {
     "name": "stdout",
     "output_type": "stream",
     "text": [
      "\n",
      "Feature Importance Analysis...\n"
     ]
    },
    {
     "name": "stderr",
     "output_type": "stream",
     "text": [
      "c:\\Users\\srujan\\AppData\\Local\\Programs\\Python\\Python311\\Lib\\site-packages\\sklearn\\feature_selection\\_univariate_selection.py:112: UserWarning: Features [38 39 40 50 53 57 63 64 65 66 67 68] are constant.\n",
      "  warnings.warn(\"Features %s are constant.\" % constant_features_idx, UserWarning)\n",
      "c:\\Users\\srujan\\AppData\\Local\\Programs\\Python\\Python311\\Lib\\site-packages\\sklearn\\feature_selection\\_univariate_selection.py:113: RuntimeWarning: invalid value encountered in divide\n",
      "  f = msb / msw\n"
     ]
    },
    {
     "data": {
      "image/png": "[encoded data removed]",
      "text/plain": [
       "<Figure size 1000x600 with 1 Axes>"
      ]
     },
     "metadata": {},
     "output_type": "display_data"
    },
    {
     "data": {
      "text/html": [
       "<div>\n",
       "<style scoped>\n",
       "    .dataframe tbody tr th:only-of-type {\n",
       "        vertical-align: middle;\n",
       "    }\n",
       "\n",
       "    .dataframe tbody tr th {\n",
       "        vertical-align: top;\n",
       "    }\n",
       "\n",
       "    .dataframe thead th {\n",
       "        text-align: right;\n",
       "    }\n",
       "</style>\n",
       "<table border=\"1\" class=\"dataframe\">\n",
       "  <thead>\n",
       "    <tr style=\"text-align: right;\">\n",
       "      <th></th>\n",
       "      <th>feature</th>\n",
       "      <th>importance</th>\n",
       "    </tr>\n",
       "  </thead>\n",
       "  <tbody>\n",
       "    <tr>\n",
       "      <th>2</th>\n",
       "      <td>Protocol</td>\n",
       "      <td>0.136695</td>\n",
       "    </tr>\n",
       "    <tr>\n",
       "      <th>4</th>\n",
       "      <td>RST Flag Count</td>\n",
       "      <td>0.125645</td>\n",
       "    </tr>\n",
       "    <tr>\n",
       "      <th>3</th>\n",
       "      <td>Packet Length Std</td>\n",
       "      <td>0.026806</td>\n",
       "    </tr>\n",
       "    <tr>\n",
       "      <th>5</th>\n",
       "      <td>ACK Flag Count</td>\n",
       "      <td>0.019046</td>\n",
       "    </tr>\n",
       "    <tr>\n",
       "      <th>0</th>\n",
       "      <td>Source IP</td>\n",
       "      <td>0.004178</td>\n",
       "    </tr>\n",
       "    <tr>\n",
       "      <th>8</th>\n",
       "      <td>min_seg_size_forward</td>\n",
       "      <td>0.001633</td>\n",
       "    </tr>\n",
       "    <tr>\n",
       "      <th>9</th>\n",
       "      <td>Inbound</td>\n",
       "      <td>0.001534</td>\n",
       "    </tr>\n",
       "    <tr>\n",
       "      <th>6</th>\n",
       "      <td>URG Flag Count</td>\n",
       "      <td>0.001389</td>\n",
       "    </tr>\n",
       "    <tr>\n",
       "      <th>1</th>\n",
       "      <td>Destination IP</td>\n",
       "      <td>0.000886</td>\n",
       "    </tr>\n",
       "    <tr>\n",
       "      <th>7</th>\n",
       "      <td>CWE Flag Count</td>\n",
       "      <td>0.000010</td>\n",
       "    </tr>\n",
       "  </tbody>\n",
       "</table>\n",
       "</div>"
      ],
      "text/plain": [
       "                 feature  importance\n",
       "2               Protocol    0.136695\n",
       "4         RST Flag Count    0.125645\n",
       "3      Packet Length Std    0.026806\n",
       "5         ACK Flag Count    0.019046\n",
       "0              Source IP    0.004178\n",
       "8   min_seg_size_forward    0.001633\n",
       "9                Inbound    0.001534\n",
       "6         URG Flag Count    0.001389\n",
       "1         Destination IP    0.000886\n",
       "7         CWE Flag Count    0.000010"
      ]
     },
     "execution_count": 23,
     "metadata": {},
     "output_type": "execute_result"
    }
   ],
   "source": [
    "# Feature Importance\n",
    "print(\"\\nFeature Importance Analysis...\")\n",
    "ddos_analysis.feature_importance()"
   ]
  },
  {
   "cell_type": "code",
   "execution_count": 26,
   "metadata": {},
   "outputs": [
    {
     "name": "stderr",
     "output_type": "stream",
     "text": [
      "c:\\Users\\srujan\\AppData\\Local\\Programs\\Python\\Python311\\Lib\\site-packages\\xgboost\\training.py:183: UserWarning: [13:29:48] WARNING: C:\\actions-runner\\_work\\xgboost\\xgboost\\src\\learner.cc:738: \n",
      "Parameters: { \"use_label_encoder\" } are not used.\n",
      "\n",
      "  bst.update(dtrain, iteration=i, fobj=obj)\n",
      "c:\\Users\\srujan\\AppData\\Local\\Programs\\Python\\Python311\\Lib\\site-packages\\xgboost\\training.py:183: UserWarning: [13:29:49] WARNING: C:\\actions-runner\\_work\\xgboost\\xgboost\\src\\learner.cc:738: \n",
      "Parameters: { \"use_label_encoder\" } are not used.\n",
      "\n",
      "  bst.update(dtrain, iteration=i, fobj=obj)\n",
      "c:\\Users\\srujan\\AppData\\Local\\Programs\\Python\\Python311\\Lib\\site-packages\\xgboost\\training.py:183: UserWarning: [13:29:50] WARNING: C:\\actions-runner\\_work\\xgboost\\xgboost\\src\\learner.cc:738: \n",
      "Parameters: { \"use_label_encoder\" } are not used.\n",
      "\n",
      "  bst.update(dtrain, iteration=i, fobj=obj)\n",
      "c:\\Users\\srujan\\AppData\\Local\\Programs\\Python\\Python311\\Lib\\site-packages\\xgboost\\training.py:183: UserWarning: [13:29:51] WARNING: C:\\actions-runner\\_work\\xgboost\\xgboost\\src\\learner.cc:738: \n",
      "Parameters: { \"use_label_encoder\" } are not used.\n",
      "\n",
      "  bst.update(dtrain, iteration=i, fobj=obj)\n",
      "c:\\Users\\srujan\\AppData\\Local\\Programs\\Python\\Python311\\Lib\\site-packages\\xgboost\\training.py:183: UserWarning: [13:29:52] WARNING: C:\\actions-runner\\_work\\xgboost\\xgboost\\src\\learner.cc:738: \n",
      "Parameters: { \"use_label_encoder\" } are not used.\n",
      "\n",
      "  bst.update(dtrain, iteration=i, fobj=obj)\n",
      "c:\\Users\\srujan\\AppData\\Local\\Programs\\Python\\Python311\\Lib\\site-packages\\xgboost\\training.py:183: UserWarning: [13:29:53] WARNING: C:\\actions-runner\\_work\\xgboost\\xgboost\\src\\learner.cc:738: \n",
      "Parameters: { \"use_label_encoder\" } are not used.\n",
      "\n",
      "  bst.update(dtrain, iteration=i, fobj=obj)\n",
      "c:\\Users\\srujan\\AppData\\Local\\Programs\\Python\\Python311\\Lib\\site-packages\\xgboost\\training.py:183: UserWarning: [13:29:54] WARNING: C:\\actions-runner\\_work\\xgboost\\xgboost\\src\\learner.cc:738: \n",
      "Parameters: { \"use_label_encoder\" } are not used.\n",
      "\n",
      "  bst.update(dtrain, iteration=i, fobj=obj)\n",
      "c:\\Users\\srujan\\AppData\\Local\\Programs\\Python\\Python311\\Lib\\site-packages\\xgboost\\training.py:183: UserWarning: [13:29:55] WARNING: C:\\actions-runner\\_work\\xgboost\\xgboost\\src\\learner.cc:738: \n",
      "Parameters: { \"use_label_encoder\" } are not used.\n",
      "\n",
      "  bst.update(dtrain, iteration=i, fobj=obj)\n",
      "c:\\Users\\srujan\\AppData\\Local\\Programs\\Python\\Python311\\Lib\\site-packages\\xgboost\\training.py:183: UserWarning: [13:29:56] WARNING: C:\\actions-runner\\_work\\xgboost\\xgboost\\src\\learner.cc:738: \n",
      "Parameters: { \"use_label_encoder\" } are not used.\n",
      "\n",
      "  bst.update(dtrain, iteration=i, fobj=obj)\n",
      "c:\\Users\\srujan\\AppData\\Local\\Programs\\Python\\Python311\\Lib\\site-packages\\xgboost\\training.py:183: UserWarning: [13:29:57] WARNING: C:\\actions-runner\\_work\\xgboost\\xgboost\\src\\learner.cc:738: \n",
      "Parameters: { \"use_label_encoder\" } are not used.\n",
      "\n",
      "  bst.update(dtrain, iteration=i, fobj=obj)\n",
      "c:\\Users\\srujan\\AppData\\Local\\Programs\\Python\\Python311\\Lib\\site-packages\\xgboost\\training.py:183: UserWarning: [13:29:58] WARNING: C:\\actions-runner\\_work\\xgboost\\xgboost\\src\\learner.cc:738: \n",
      "Parameters: { \"use_label_encoder\" } are not used.\n",
      "\n",
      "  bst.update(dtrain, iteration=i, fobj=obj)\n",
      "c:\\Users\\srujan\\AppData\\Local\\Programs\\Python\\Python311\\Lib\\site-packages\\xgboost\\training.py:183: UserWarning: [13:29:59] WARNING: C:\\actions-runner\\_work\\xgboost\\xgboost\\src\\learner.cc:738: \n",
      "Parameters: { \"use_label_encoder\" } are not used.\n",
      "\n",
      "  bst.update(dtrain, iteration=i, fobj=obj)\n",
      "c:\\Users\\srujan\\AppData\\Local\\Programs\\Python\\Python311\\Lib\\site-packages\\xgboost\\training.py:183: UserWarning: [13:30:01] WARNING: C:\\actions-runner\\_work\\xgboost\\xgboost\\src\\learner.cc:738: \n",
      "Parameters: { \"use_label_encoder\" } are not used.\n",
      "\n",
      "  bst.update(dtrain, iteration=i, fobj=obj)\n"
     ]
    }
   ],
   "source": [
    "ml_results = ddos_analysis.train_ml_models(use_sample=True)  # ← Uses 10% data for tuning"
   ]
  },
  {
   "cell_type": "code",
   "execution_count": null,
   "metadata": {
    "execution": {
     "iopub.execute_input": "2024-11-25T19:33:17.943210Z",
     "iopub.status.busy": "2024-11-25T19:33:17.942710Z",
     "iopub.status.idle": "2024-11-25T19:33:17.965854Z",
     "shell.execute_reply": "2024-11-25T19:33:17.964612Z",
     "shell.execute_reply.started": "2024-11-25T19:33:17.943171Z"
    },
    "trusted": true
   },
   "outputs": [
    {
     "name": "stdout",
     "output_type": "stream",
     "text": [
      "Model Performance Summary:\n",
      "           Model                             Best Parameters  Accuracy  \\\n",
      "0            SVM                   {'C': 1, 'kernel': 'rbf'}  0.999912   \n",
      "1  Random Forest    {'max_depth': None, 'n_estimators': 100}  0.999985   \n",
      "2        XGBoost  {'learning_rate': 0.1, 'n_estimators': 50}  0.999991   \n",
      "\n",
      "            Confusion Matrix  \n",
      "0  [[7156, 2], [74, 856877]]  \n",
      "1  [[7158, 0], [13, 856938]]  \n",
      "2   [[7156, 2], [6, 856945]]  \n",
      "\n",
      "SVM Classification Report:\n",
      "              precision    recall  f1-score   support\n",
      "\n",
      "           0       0.99      1.00      0.99      7158\n",
      "           1       1.00      1.00      1.00    856951\n",
      "\n",
      "    accuracy                           1.00    864109\n",
      "   macro avg       0.99      1.00      1.00    864109\n",
      "weighted avg       1.00      1.00      1.00    864109\n",
      "\n",
      "--------------------------------------------------\n",
      "\n",
      "Random Forest Classification Report:\n",
      "              precision    recall  f1-score   support\n",
      "\n",
      "           0       1.00      1.00      1.00      7158\n",
      "           1       1.00      1.00      1.00    856951\n",
      "\n",
      "    accuracy                           1.00    864109\n",
      "   macro avg       1.00      1.00      1.00    864109\n",
      "weighted avg       1.00      1.00      1.00    864109\n",
      "\n",
      "--------------------------------------------------\n",
      "\n",
      "XGBoost Classification Report:\n",
      "              precision    recall  f1-score   support\n",
      "\n",
      "           0       1.00      1.00      1.00      7158\n",
      "           1       1.00      1.00      1.00    856951\n",
      "\n",
      "    accuracy                           1.00    864109\n",
      "   macro avg       1.00      1.00      1.00    864109\n",
      "weighted avg       1.00      1.00      1.00    864109\n",
      "\n",
      "--------------------------------------------------\n",
      "\n",
      "SVM Confusion Matrix:\n",
      "          Predicted 0  Predicted 1\n",
      "Actual 0         7156            2\n",
      "Actual 1           74       856877\n",
      "--------------------------------------------------\n",
      "\n",
      "Random Forest Confusion Matrix:\n",
      "          Predicted 0  Predicted 1\n",
      "Actual 0         7158            0\n",
      "Actual 1           13       856938\n",
      "--------------------------------------------------\n",
      "\n",
      "XGBoost Confusion Matrix:\n",
      "          Predicted 0  Predicted 1\n",
      "Actual 0         7156            2\n",
      "Actual 1            6       856945\n",
      "--------------------------------------------------\n"
     ]
    }
   ],
   "source": [
    "import pandas as pd\n",
    "import numpy as np\n",
    "from sklearn.metrics import classification_report, confusion_matrix\n",
    "\n",
    "results_list = []\n",
    "\n",
    "for model_name, model_results in ml_results.items():\n",
    "    results_list.append({\n",
    "        'Model': model_name,\n",
    "        'Best Parameters': model_results['best_params'],\n",
    "        'Accuracy': model_results['accuracy'],\n",
    "        'Confusion Matrix': model_results['confusion_matrix']\n",
    "    })\n",
    "\n",
    "results_df = pd.DataFrame(results_list)\n",
    "\n",
    "print(\"Model Performance Summary:\")\n",
    "print(results_df)\n",
    "\n",
    "for model_name, model_results in ml_results.items():\n",
    "    print(f\"\\n{model_name} Classification Report:\")\n",
    "    print(model_results['classification_report'])\n",
    "    print(\"-\" * 50)\n",
    "\n",
    "for model_name, model_results in ml_results.items():\n",
    "    print(f\"\\n{model_name} Confusion Matrix:\")\n",
    "    print(pd.DataFrame(model_results['confusion_matrix'], columns=['Predicted 0', 'Predicted 1'], \n",
    "                       index=['Actual 0', 'Actual 1']))\n",
    "    print(\"-\" * 50)\n"
   ]
  },
  {
   "cell_type": "code",
   "execution_count": null,
   "metadata": {
    "execution": {
     "iopub.execute_input": "2024-11-25T19:33:26.574151Z",
     "iopub.status.busy": "2024-11-25T19:33:26.573707Z",
     "iopub.status.idle": "2024-11-25T19:35:48.336798Z",
     "shell.execute_reply": "2024-11-25T19:35:48.335466Z",
     "shell.execute_reply.started": "2024-11-25T19:33:26.574114Z"
    },
    "trusted": true
   },
   "outputs": [
    {
     "name": "stdout",
     "output_type": "stream",
     "text": [
      "\n",
      "Training Deep Learning Model...\n"
     ]
    },
    {
     "name": "stderr",
     "output_type": "stream",
     "text": [
      "c:\\Users\\srujan\\AppData\\Local\\Programs\\Python\\Python311\\Lib\\site-packages\\keras\\src\\layers\\core\\dense.py:87: UserWarning: Do not pass an `input_shape`/`input_dim` argument to a layer. When using Sequential models, prefer using an `Input(shape)` object as the first layer in the model instead.\n",
      "  super().__init__(activity_regularizer=activity_regularizer, **kwargs)\n"
     ]
    },
    {
     "name": "stdout",
     "output_type": "stream",
     "text": [
      "\u001b[1m27004/27004\u001b[0m \u001b[32m━━━━━━━━━━━━━━━━━━━━\u001b[0m\u001b[37m\u001b[0m \u001b[1m38s\u001b[0m 1ms/step\n"
     ]
    },
    {
     "data": {
      "image/png": "[encoded data removed]",
      "text/plain": [
       "<Figure size 1200x400 with 2 Axes>"
      ]
     },
     "metadata": {},
     "output_type": "display_data"
    },
    {
     "name": "stdout",
     "output_type": "stream",
     "text": [
      "{'classification_report': '              precision    recall  f1-score   support\\n\\n           0       1.00      1.00      1.00      7158\\n           1       1.00      1.00      1.00    856951\\n\\n    accuracy                           1.00    864109\\n   macro avg       1.00      1.00      1.00    864109\\nweighted avg       1.00      1.00      1.00    864109\\n', 'confusion_matrix': array([[  7148,     10],\n",
      "       [    12, 856939]], dtype=int64), 'accuracy': 0.9999745402489733}\n"
     ]
    }
   ],
   "source": [
    "print(\"\\nTraining Deep Learning Model...\")\n",
    "dl_results = ddos_analysis.deep_learning_model()\n",
    "print(dl_results)"
   ]
  },
  {
   "cell_type": "code",
   "execution_count": 29,
   "metadata": {
    "execution": {
     "iopub.execute_input": "2024-11-25T19:37:13.778094Z",
     "iopub.status.busy": "2024-11-25T19:37:13.777644Z",
     "iopub.status.idle": "2024-11-25T19:37:13.791655Z",
     "shell.execute_reply": "2024-11-25T19:37:13.790421Z",
     "shell.execute_reply.started": "2024-11-25T19:37:13.778058Z"
    },
    "trusted": true
   },
   "outputs": [
    {
     "name": "stdout",
     "output_type": "stream",
     "text": [
      "Model Performance Summary:\n",
      "                 Model  Accuracy            Confusion Matrix\n",
      "0  Deep Learning Model  0.999975  [[7148, 10], [12, 856939]]\n",
      "\n",
      "Deep Learning Model Classification Report:\n",
      "              precision    recall  f1-score   support\n",
      "\n",
      "           0       1.00      1.00      1.00      7158\n",
      "           1       1.00      1.00      1.00    856951\n",
      "\n",
      "    accuracy                           1.00    864109\n",
      "   macro avg       1.00      1.00      1.00    864109\n",
      "weighted avg       1.00      1.00      1.00    864109\n",
      "\n",
      "--------------------------------------------------\n",
      "\n",
      "Deep Learning Model Confusion Matrix:\n",
      "          Predicted 0  Predicted 1\n",
      "Actual 0         7148           10\n",
      "Actual 1           12       856939\n",
      "--------------------------------------------------\n"
     ]
    }
   ],
   "source": [
    "results_list = []\n",
    "\n",
    "results_list.append({\n",
    "    'Model': 'Deep Learning Model',\n",
    "    'Accuracy': dl_results['accuracy'],\n",
    "    'Confusion Matrix': dl_results['confusion_matrix']\n",
    "})\n",
    "\n",
    "results_df = pd.DataFrame(results_list)\n",
    "\n",
    "print(\"Model Performance Summary:\")\n",
    "print(results_df)\n",
    "\n",
    "print(\"\\nDeep Learning Model Classification Report:\")\n",
    "print(dl_results['classification_report'])\n",
    "print(\"-\" * 50)\n",
    "\n",
    "print(\"\\nDeep Learning Model Confusion Matrix:\")\n",
    "conf_matrix = dl_results['confusion_matrix']\n",
    "conf_matrix_df = pd.DataFrame(conf_matrix, columns=['Predicted 0', 'Predicted 1'], \n",
    "                              index=['Actual 0', 'Actual 1'])\n",
    "print(conf_matrix_df)\n",
    "print(\"-\" * 50)"
   ]
  },
  {
   "cell_type": "code",
   "execution_count": null,
   "metadata": {},
   "outputs": [
    {
     "data": {
      "text/plain": [
       "['ddos_scaler.pkl']"
      ]
     },
     "execution_count": 37,
     "metadata": {},
     "output_type": "execute_result"
    }
   ],
   "source": [
    "import joblib\n",
    "\n",
    "best_rf_model = ml_results['Random Forest']['best_params']\n",
    "final_model = RandomForestClassifier(**best_rf_model)\n",
    "final_model.fit(ddos_analysis.X_train, ddos_analysis.y_train)\n",
    "\n",
    "joblib.dump(final_model, 'ddos_model.pkl')\n",
    "joblib.dump(StandardScaler().fit(ddos_analysis.X_train), 'ddos_scaler.pkl')"
   ]
  }
 ],
 "metadata": {
  "kaggle": {
   "accelerator": "none",
   "dataSources": [
    {
     "datasetId": 3566887,
     "sourceId": 6211501,
     "sourceType": "datasetVersion"
    }
   ],
   "dockerImageVersionId": 30786,
   "isGpuEnabled": false,
   "isInternetEnabled": true,
   "language": "python",
   "sourceType": "notebook"
  },
  "kernelspec": {
   "display_name": "Python 3",
   "language": "python",
   "name": "python3"
  },
  "language_info": {
   "codemirror_mode": {
    "name": "ipython",
    "version": 3
   },
   "file_extension": ".py",
   "mimetype": "text/x-python",
   "name": "python",
   "nbconvert_exporter": "python",
   "pygments_lexer": "ipython3",
   "version": "3.11.5"
  }
 },
 "nbformat": 4,
 "nbformat_minor": 4
}
